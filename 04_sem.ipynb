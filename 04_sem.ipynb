{
 "cells": [
  {
   "cell_type": "markdown",
   "id": "5ba2d236",
   "metadata": {},
   "source": [
    "# Семинар 15.03"
   ]
  },
  {
   "cell_type": "markdown",
   "id": "c16ac287",
   "metadata": {},
   "source": [
    "### Задания"
   ]
  },
  {
   "cell_type": "markdown",
   "id": "bc370609",
   "metadata": {},
   "source": [
    "20) Оформить доступ к буферу экрана (screen) через свойство.\n",
    "\n",
    "21) Модифицировать конструктор фигуры так, чтобы при создании объекта для него мог задаваться внешний буфер экрана.\n",
    "\n",
    "22) Модифицировать код фигур так, чтобы все фигуры рисовались на общем экране.\n"
   ]
  },
  {
   "cell_type": "code",
   "execution_count": null,
   "id": "51f9f8ec",
   "metadata": {},
   "outputs": [],
   "source": []
  }
 ],
 "metadata": {
  "kernelspec": {
   "display_name": "Python 3 (ipykernel)",
   "language": "python",
   "name": "python3"
  },
  "language_info": {
   "codemirror_mode": {
    "name": "ipython",
    "version": 3
   },
   "file_extension": ".py",
   "mimetype": "text/x-python",
   "name": "python",
   "nbconvert_exporter": "python",
   "pygments_lexer": "ipython3",
   "version": "3.9.7"
  }
 },
 "nbformat": 4,
 "nbformat_minor": 5
}
